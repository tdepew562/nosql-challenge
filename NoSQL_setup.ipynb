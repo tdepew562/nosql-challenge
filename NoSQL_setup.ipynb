{
 "cells": [
  {
   "cell_type": "markdown",
   "id": "9a57c4c6",
   "metadata": {},
   "source": [
    "# Eat Safe, Love"
   ]
  },
  {
   "cell_type": "markdown",
   "id": "064ef857",
   "metadata": {},
   "source": [
    "## Part 1: Database and Jupyter Notebook Set Up"
   ]
  },
  {
   "cell_type": "markdown",
   "id": "664e3c1f",
   "metadata": {},
   "source": [
    "Import the data provided in the `establishments.json` file from your Terminal. Name the database `uk_food` and the collection `establishments`.\n",
    "\n",
    "Within this markdown cell, copy the line of text you used to import the data from your Terminal. This way, future analysts will be able to repeat your process.\n",
    "\n",
    "e.g.: Import the dataset with `YOUR IMPORT TEXT HERE`"
   ]
  },
  {
   "cell_type": "markdown",
   "id": "8ff59d82",
   "metadata": {},
   "source": [
    "# Import Data (command for terminal)\n",
    "$ mongoimport --db uk_food --collection establishments --file \"/c/Users/Thomas/Desktop/Finished Projects/Project 12 FInished (need to finish)/Resources/establishments.json\" --jsonArray"
   ]
  },
  {
   "cell_type": "code",
   "execution_count": 55,
   "id": "3ecdd008",
   "metadata": {},
   "outputs": [],
   "source": [
    "# Import dependencies\n",
    "from pymongo import MongoClient\n",
    "from pprint import pprint"
   ]
  },
  {
   "cell_type": "code",
   "execution_count": 56,
   "id": "59390c4a",
   "metadata": {},
   "outputs": [],
   "source": [
    "# Create an instance of MongoClient\n",
    "mongo = MongoClient(port=27017)"
   ]
  },
  {
   "cell_type": "code",
   "execution_count": 57,
   "id": "7cadefee",
   "metadata": {},
   "outputs": [
    {
     "name": "stdout",
     "output_type": "stream",
     "text": [
      "Available databases:\n",
      "['Project_12_ucb', 'admin', 'config', 'local', 'uk_food']\n"
     ]
    }
   ],
   "source": [
    "# List the available databases\n",
    "print(\"Available databases:\")\n",
    "pprint(mongo.list_database_names())\n"
   ]
  },
  {
   "cell_type": "code",
   "execution_count": 58,
   "id": "71e373c1",
   "metadata": {},
   "outputs": [],
   "source": [
    "# assign the uk_food database to a variable name\n",
    "db = mongo['uk_food']\n"
   ]
  },
  {
   "cell_type": "code",
   "execution_count": 59,
   "id": "ef1b89ed",
   "metadata": {},
   "outputs": [
    {
     "name": "stdout",
     "output_type": "stream",
     "text": [
      "Collections in the 'uk_food' database:\n",
      "['establishments']\n"
     ]
    }
   ],
   "source": [
    "# review the collections in our new database\n",
    "print(\"Collections in the 'uk_food' database:\")\n",
    "pprint(db.list_collection_names())"
   ]
  },
  {
   "cell_type": "code",
   "execution_count": 60,
   "id": "04297658",
   "metadata": {},
   "outputs": [
    {
     "name": "stdout",
     "output_type": "stream",
     "text": [
      "{'AddressLine1': '16 The Stade',\n",
      " 'AddressLine2': 'Folkestone',\n",
      " 'AddressLine3': 'Kent',\n",
      " 'AddressLine4': '',\n",
      " 'BusinessName': 'Mariner',\n",
      " 'BusinessType': 'Pub/bar/nightclub',\n",
      " 'BusinessTypeID': 7843,\n",
      " 'ChangesByServerID': 0,\n",
      " 'Distance': 4591.912144538092,\n",
      " 'FHRSID': 289560,\n",
      " 'LocalAuthorityBusinessID': 'PI/000039927',\n",
      " 'LocalAuthorityCode': '188',\n",
      " 'LocalAuthorityEmailAddress': 'foodteam@folkestone-hythe.gov.uk',\n",
      " 'LocalAuthorityName': 'Folkestone and Hythe',\n",
      " 'LocalAuthorityWebSite': 'http://www.folkestone-hythe.gov.uk',\n",
      " 'NewRatingPending': False,\n",
      " 'Phone': '',\n",
      " 'PostCode': 'CT19 6AB',\n",
      " 'RatingDate': '2019-03-19T00:00:00',\n",
      " 'RatingKey': 'fhrs_5_en-gb',\n",
      " 'RatingValue': None,\n",
      " 'RightToReply': '',\n",
      " 'SchemeType': 'FHRS',\n",
      " '_id': ObjectId('6608f7e532552e0245bd407a'),\n",
      " 'geocode': {'latitude': {'$toDouble': '$geocode.latitude'},\n",
      "             'longitude': {'$toDouble': '$geocode.longitude'}},\n",
      " 'links': [{'href': 'https://api.ratings.food.gov.uk/establishments/289560',\n",
      "            'rel': 'self'}],\n",
      " 'meta': {'dataSource': None,\n",
      "          'extractDate': '0001-01-01T00:00:00',\n",
      "          'itemCount': 0,\n",
      "          'pageNumber': 0,\n",
      "          'pageSize': 0,\n",
      "          'returncode': None,\n",
      "          'totalCount': 0,\n",
      "          'totalPages': 0},\n",
      " 'scores': {'ConfidenceInManagement': 0, 'Hygiene': 0, 'Structural': 5}}\n"
     ]
    }
   ],
   "source": [
    "pprint(db.establishments.find_one())\n"
   ]
  },
  {
   "cell_type": "code",
   "execution_count": 61,
   "id": "11c9f11b",
   "metadata": {},
   "outputs": [],
   "source": [
    "# assign the collection to a variable\n",
    "establishments = db['establishments']"
   ]
  },
  {
   "cell_type": "markdown",
   "id": "d5671434",
   "metadata": {},
   "source": [
    "## Part 2: Update the Database"
   ]
  },
  {
   "cell_type": "markdown",
   "id": "314bd884",
   "metadata": {},
   "source": [
    "1. An exciting new halal restaurant just opened in Greenwich, but hasn't been rated yet. The magazine has asked you to include it in your analysis. Add the following restaurant \"Penang Flavours\" to the database."
   ]
  },
  {
   "cell_type": "code",
   "execution_count": 77,
   "id": "a71da458",
   "metadata": {},
   "outputs": [
    {
     "name": "stdout",
     "output_type": "stream",
     "text": [
      "Existing restaurant updated successfully.\n"
     ]
    }
   ],
   "source": [
    "# Define the new restaurant data\n",
    "new_restaurant = {\n",
    "    \"BusinessName\": \"Penang Flavours\",\n",
    "    \"BusinessType\": \"Restaurant/Cafe/Canteen\",\n",
    "    \"BusinessTypeID\": \"\",\n",
    "    \"AddressLine1\": \"Penang Flavours\",\n",
    "    \"AddressLine2\": \"146A Plumstead Rd\",\n",
    "    \"AddressLine3\": \"London\",\n",
    "    \"AddressLine4\": \"\",\n",
    "    \"PostCode\": \"SE18 7DY\",\n",
    "    \"Phone\": \"\",\n",
    "    \"LocalAuthorityCode\": \"511\",\n",
    "    \"LocalAuthorityName\": \"Greenwich\",\n",
    "    \"LocalAuthorityWebSite\": \"http://www.royalgreenwich.gov.uk\",\n",
    "    \"LocalAuthorityEmailAddress\": \"health@royalgreenwich.gov.uk\",\n",
    "    \"scores\": {\n",
    "        \"Hygiene\": \"\",\n",
    "        \"Structural\": \"\",\n",
    "        \"ConfidenceInManagement\": \"\"\n",
    "    },\n",
    "    \"SchemeType\": \"FHRS\",\n",
    "    \"geocode\": {\n",
    "        \"longitude\": \"0.08384000\",\n",
    "        \"latitude\": \"51.49014200\"\n",
    "    },\n",
    "    \"RightToReply\": \"\",\n",
    "    \"Distance\": 4623.9723280747176,\n",
    "    \"NewRatingPending\": True\n",
    "}\n",
    "\n",
    "# Update the existing document with the new restaurant data\n",
    "update_result = establishments.update_one({\"BusinessName\": \"Penang Flavours\"}, {\"$set\": new_restaurant})\n",
    "\n",
    "if update_result.modified_count > 0:\n",
    "    print(\"Existing restaurant updated successfully.\")\n",
    "else:\n",
    "    print(\"No documents matched the update criteria.\")\n",
    "\n"
   ]
  },
  {
   "cell_type": "code",
   "execution_count": 79,
   "id": "88648c62",
   "metadata": {},
   "outputs": [
    {
     "data": {
      "text/plain": [
       "<pymongo.cursor.Cursor at 0x20a4a8a25d0>"
      ]
     },
     "execution_count": 79,
     "metadata": {},
     "output_type": "execute_result"
    }
   ],
   "source": [
    "db.collection_name.find({\"BusinessName\": \"Penang Flavours\"})\n"
   ]
  },
  {
   "cell_type": "markdown",
   "id": "0ef4395a",
   "metadata": {},
   "source": [
    "2. Find the BusinessTypeID for \"Restaurant/Cafe/Canteen\" and return only the `BusinessTypeID` and `BusinessType` fields."
   ]
  },
  {
   "cell_type": "code",
   "execution_count": 80,
   "id": "93c63829",
   "metadata": {},
   "outputs": [
    {
     "name": "stdout",
     "output_type": "stream",
     "text": [
      "BusinessTypeID and BusinessType for 'Restaurant/Cafe/Canteen':\n",
      "{'BusinessType': 'Restaurant/Cafe/Canteen', 'BusinessTypeID': 1}\n"
     ]
    }
   ],
   "source": [
    "restaurant_type = establishments.find_one(\n",
    "    {\"BusinessType\": \"Restaurant/Cafe/Canteen\"},\n",
    "    {\"BusinessTypeID\": 1, \"BusinessType\": 1, \"_id\": 0}\n",
    ")\n",
    "\n",
    "print(\"BusinessTypeID and BusinessType for 'Restaurant/Cafe/Canteen':\")\n",
    "pprint(restaurant_type)\n"
   ]
  },
  {
   "cell_type": "markdown",
   "id": "4e570caf",
   "metadata": {},
   "source": [
    "3. Update the new restaurant with the `BusinessTypeID` you found."
   ]
  },
  {
   "cell_type": "code",
   "execution_count": 81,
   "id": "7f599f3d",
   "metadata": {},
   "outputs": [
    {
     "name": "stdout",
     "output_type": "stream",
     "text": [
      "BusinessTypeID updated successfully for 'Penang Flavours' restaurant.\n"
     ]
    }
   ],
   "source": [
    "# Define the filter to identify the \"Penang Flavours\" restaurant\n",
    "filter_query = {\"BusinessName\": \"Penang Flavours\"}\n",
    "\n",
    "# Define the update operation to set the BusinessTypeID\n",
    "update_operation = {\n",
    "    \"$set\": {\"BusinessTypeID\": restaurant_type[\"BusinessTypeID\"]}\n",
    "}\n",
    "\n",
    "# Perform the update operation\n",
    "update_result = establishments.update_one(filter_query, update_operation)\n",
    "\n",
    "# Check if the update was successful\n",
    "if update_result.modified_count > 0:\n",
    "    print(\"BusinessTypeID updated successfully for 'Penang Flavours' restaurant.\")\n",
    "else:\n",
    "    print(\"No documents matched the filter to update.\")"
   ]
  },
  {
   "cell_type": "markdown",
   "id": "67281254",
   "metadata": {},
   "source": [
    "4. The magazine is not interested in any establishments in Dover, so check how many documents contain the Dover Local Authority. Then, remove any establishments within the Dover Local Authority from the database, and check the number of documents to ensure they were deleted."
   ]
  },
  {
   "cell_type": "code",
   "execution_count": 82,
   "id": "3d546ba0",
   "metadata": {},
   "outputs": [
    {
     "name": "stdout",
     "output_type": "stream",
     "text": [
      "Number of establishments with Dover Local Authority: 0\n",
      "Number of establishments deleted: 0\n",
      "Number of remaining documents: 38793\n"
     ]
    }
   ],
   "source": [
    "# Count documents with Dover Local Authority\n",
    "dover_count = establishments.count_documents({\"LocalAuthorityName\": \"Dover\"})\n",
    "\n",
    "print(\"Number of establishments with Dover Local Authority:\", dover_count)\n",
    "\n",
    "# Remove establishments with Dover Local Authority\n",
    "delete_result = establishments.delete_many({\"LocalAuthorityName\": \"Dover\"})\n",
    "\n",
    "print(\"Number of establishments deleted:\", delete_result.deleted_count)\n",
    "\n",
    "# Check number of documents after deletion\n",
    "remaining_count = establishments.count_documents({})\n",
    "print(\"Number of remaining documents:\", remaining_count)\n"
   ]
  },
  {
   "cell_type": "code",
   "execution_count": 83,
   "id": "bea7285a",
   "metadata": {},
   "outputs": [
    {
     "name": "stdout",
     "output_type": "stream",
     "text": [
      "One remaining document after deletion:\n",
      "{'AddressLine1': '16 The Stade',\n",
      " 'AddressLine2': 'Folkestone',\n",
      " 'AddressLine3': 'Kent',\n",
      " 'AddressLine4': '',\n",
      " 'BusinessName': 'Mariner',\n",
      " 'BusinessType': 'Pub/bar/nightclub',\n",
      " 'BusinessTypeID': 7843,\n",
      " 'ChangesByServerID': 0,\n",
      " 'Distance': 4591.912144538092,\n",
      " 'FHRSID': 289560,\n",
      " 'LocalAuthorityBusinessID': 'PI/000039927',\n",
      " 'LocalAuthorityCode': '188',\n",
      " 'LocalAuthorityEmailAddress': 'foodteam@folkestone-hythe.gov.uk',\n",
      " 'LocalAuthorityName': 'Folkestone and Hythe',\n",
      " 'LocalAuthorityWebSite': 'http://www.folkestone-hythe.gov.uk',\n",
      " 'NewRatingPending': False,\n",
      " 'Phone': '',\n",
      " 'PostCode': 'CT19 6AB',\n",
      " 'RatingDate': '2019-03-19T00:00:00',\n",
      " 'RatingKey': 'fhrs_5_en-gb',\n",
      " 'RatingValue': None,\n",
      " 'RightToReply': '',\n",
      " 'SchemeType': 'FHRS',\n",
      " '_id': ObjectId('6608f7e532552e0245bd407a'),\n",
      " 'geocode': {'latitude': {'$toDouble': '$geocode.latitude'},\n",
      "             'longitude': {'$toDouble': '$geocode.longitude'}},\n",
      " 'links': [{'href': 'https://api.ratings.food.gov.uk/establishments/289560',\n",
      "            'rel': 'self'}],\n",
      " 'meta': {'dataSource': None,\n",
      "          'extractDate': '0001-01-01T00:00:00',\n",
      "          'itemCount': 0,\n",
      "          'pageNumber': 0,\n",
      "          'pageSize': 0,\n",
      "          'returncode': None,\n",
      "          'totalCount': 0,\n",
      "          'totalPages': 0},\n",
      " 'scores': {'ConfidenceInManagement': 0, 'Hygiene': 0, 'Structural': 5}}\n"
     ]
    }
   ],
   "source": [
    "# Find one document after deletion\n",
    "remaining_document = establishments.find_one()\n",
    "\n",
    "print(\"One remaining document after deletion:\")\n",
    "pprint(remaining_document)"
   ]
  },
  {
   "attachments": {},
   "cell_type": "markdown",
   "id": "e9f1662d",
   "metadata": {},
   "source": [
    "5. Some of the number values are stored as strings, when they should be stored as numbers."
   ]
  },
  {
   "attachments": {},
   "cell_type": "markdown",
   "id": "c46df2df",
   "metadata": {},
   "source": [
    "Use `update_many` to convert `latitude` and `longitude` to decimal numbers."
   ]
  },
  {
   "cell_type": "code",
   "execution_count": 84,
   "id": "fd4112ce",
   "metadata": {},
   "outputs": [
    {
     "name": "stdout",
     "output_type": "stream",
     "text": [
      "Number of documents updated for latitude: 3\n",
      "Number of documents updated for longitude: 3\n"
     ]
    }
   ],
   "source": [
    "# Update documents to convert latitude and longitude to decimal numbers\n",
    "update_result = establishments.update_many(\n",
    "    {\"geocode.latitude\": {\"$type\": \"string\"}},\n",
    "    {\"$set\": {\"geocode.latitude\": {\"$toDouble\": \"$geocode.latitude\"}}}\n",
    ")\n",
    "\n",
    "print(\"Number of documents updated for latitude:\", update_result.modified_count)\n",
    "\n",
    "update_result = establishments.update_many(\n",
    "    {\"geocode.longitude\": {\"$type\": \"string\"}},\n",
    "    {\"$set\": {\"geocode.longitude\": {\"$toDouble\": \"$geocode.longitude\"}}}\n",
    ")\n",
    "\n",
    "print(\"Number of documents updated for longitude:\", update_result.modified_count)\n",
    "\n"
   ]
  },
  {
   "attachments": {},
   "cell_type": "markdown",
   "id": "142e319c",
   "metadata": {},
   "source": [
    "Use `update_many` to convert `RatingValue` to integer numbers."
   ]
  },
  {
   "cell_type": "code",
   "execution_count": 85,
   "id": "04430a5b",
   "metadata": {},
   "outputs": [
    {
     "name": "stdout",
     "output_type": "stream",
     "text": [
      "Number of documents updated for non-1-5 Rating Values: 2\n"
     ]
    }
   ],
   "source": [
    "# Set non 1-5 Rating Values to Null\n",
    "update_result = establishments.update_many(\n",
    "    {\"RatingValue\": {\"$not\": {\"$in\": [\"1\", \"2\", \"3\", \"4\", \"5\"]}}},\n",
    "    {\"$set\": {\"RatingValue\": None}}\n",
    ")\n",
    "\n",
    "print(\"Number of documents updated for non-1-5 Rating Values:\", update_result.modified_count)\n"
   ]
  },
  {
   "cell_type": "code",
   "execution_count": 86,
   "id": "92524ccc",
   "metadata": {},
   "outputs": [
    {
     "name": "stdout",
     "output_type": "stream",
     "text": [
      "Number of documents updated for data type conversion: 0\n"
     ]
    }
   ],
   "source": [
    "# Change the data type from String to Integer for RatingValue\n",
    "update_result = establishments.update_many(\n",
    "    {\"RatingValue\": {\"$type\": \"string\"}},\n",
    "    {\"$set\": {\"RatingValue\": {\"$toInt\": \"$RatingValue\"}}}\n",
    ")\n",
    "\n",
    "print(\"Number of documents updated for data type conversion:\", update_result.modified_count)\n"
   ]
  },
  {
   "cell_type": "code",
   "execution_count": 87,
   "id": "0deacaf9",
   "metadata": {},
   "outputs": [
    {
     "name": "stdout",
     "output_type": "stream",
     "text": [
      "[{'BusinessName': 'Mariner',\n",
      "  'RatingValue': None,\n",
      "  '_id': ObjectId('6608f7e532552e0245bd407a'),\n",
      "  'geocode': {'latitude': {'$toDouble': '$geocode.latitude'},\n",
      "              'longitude': {'$toDouble': '$geocode.longitude'}}},\n",
      " {'BusinessName': 'The Ship',\n",
      "  'RatingValue': None,\n",
      "  '_id': ObjectId('6608f7e532552e0245bd407b'),\n",
      "  'geocode': {'latitude': {'$toDouble': '$geocode.latitude'},\n",
      "              'longitude': {'$toDouble': '$geocode.longitude'}}},\n",
      " {'BusinessName': 'Folkestone Trawlers Shop',\n",
      "  'RatingValue': None,\n",
      "  '_id': ObjectId('6608f7e532552e0245bd407c'),\n",
      "  'geocode': {'latitude': {'$toDouble': '$geocode.latitude'},\n",
      "              'longitude': {'$toDouble': '$geocode.longitude'}}},\n",
      " {'BusinessName': 'The Ships Galley',\n",
      "  'RatingValue': None,\n",
      "  '_id': ObjectId('6608f7e532552e0245bd407d'),\n",
      "  'geocode': {'latitude': {'$toDouble': '$geocode.latitude'},\n",
      "              'longitude': {'$toDouble': '$geocode.longitude'}}}]\n"
     ]
    }
   ],
   "source": [
    "# Check that the coordinates and rating value are now numbers\n",
    "updated_fields = list(establishments.find({},{'BusinessName':1,'geocode.latitude':1,'geocode.longitude':1,'RatingValue':1}))\n",
    "pprint(updated_fields[0:4])\n"
   ]
  }
 ],
 "metadata": {
  "kernelspec": {
   "display_name": "Python 3 (ipykernel)",
   "language": "python",
   "name": "python3"
  },
  "language_info": {
   "codemirror_mode": {
    "name": "ipython",
    "version": 3
   },
   "file_extension": ".py",
   "mimetype": "text/x-python",
   "name": "python",
   "nbconvert_exporter": "python",
   "pygments_lexer": "ipython3",
   "version": "3.11.5"
  }
 },
 "nbformat": 4,
 "nbformat_minor": 5
}
